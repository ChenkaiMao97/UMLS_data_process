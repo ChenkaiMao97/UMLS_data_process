{
 "cells": [
  {
   "cell_type": "markdown",
   "metadata": {},
   "source": [
    "## Generate new concept pairs for inference"
   ]
  },
  {
   "cell_type": "code",
   "execution_count": 1,
   "metadata": {},
   "outputs": [],
   "source": [
    "import csv\n",
    "import pandas as pd \n",
    "import numpy as np\n",
    "import random\n",
    "\n",
    "CUI1_list = []\n",
    "CUI2_list = []\n",
    "label_list = []\n",
    "with open('./extraxted_concept_pairs/extracted_disease_has_finding.csv') as f:\n",
    "    reader = csv.reader(f, delimiter=',')\n",
    "    row1 = next(reader)\n",
    "    for row in reader:\n",
    "        CUI2_list.append(list(csv.reader([row[1].strip('()')], delimiter=',', quotechar='\"'))[0][0].strip(\"'\"))\n",
    "        CUI1_list.append(list(csv.reader([row[0].strip('()')], delimiter=',', quotechar='\"'))[0][0].strip(\"'\"))\n",
    "        label_list.append('0')\n",
    "\n",
    "df = pd.DataFrame(np.array([CUI1_list,CUI2_list,label_list]).T,\n",
    "                   columns=['CUI1', 'CUI2', 'label'])\n",
    "\n",
    "df.to_csv('./extraxted_concept_pairs/inference_disease_has_finding.csv')\n"
   ]
  },
  {
   "cell_type": "code",
   "execution_count": null,
   "metadata": {},
   "outputs": [],
   "source": []
  }
 ],
 "metadata": {
  "kernelspec": {
   "display_name": "Python 3",
   "language": "python",
   "name": "python3"
  },
  "language_info": {
   "codemirror_mode": {
    "name": "ipython",
    "version": 3
   },
   "file_extension": ".py",
   "mimetype": "text/x-python",
   "name": "python",
   "nbconvert_exporter": "python",
   "pygments_lexer": "ipython3",
   "version": "3.7.6"
  }
 },
 "nbformat": 4,
 "nbformat_minor": 4
}
