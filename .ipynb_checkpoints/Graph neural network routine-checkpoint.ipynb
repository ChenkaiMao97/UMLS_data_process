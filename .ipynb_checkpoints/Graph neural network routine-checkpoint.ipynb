{
 "cells": [
  {
   "cell_type": "code",
   "execution_count": 9,
   "metadata": {},
   "outputs": [
    {
     "ename": "AttributeError",
     "evalue": "'list' object has no attribute 'shuffle'",
     "output_type": "error",
     "traceback": [
      "\u001b[0;31m---------------------------------------------------------------------------\u001b[0m",
      "\u001b[0;31mAttributeError\u001b[0m                            Traceback (most recent call last)",
      "\u001b[0;32m<ipython-input-9-223b88ebad19>\u001b[0m in \u001b[0;36m<module>\u001b[0;34m\u001b[0m\n\u001b[1;32m     28\u001b[0m             \u001b[0mall_train_dev_test\u001b[0m\u001b[0;34m.\u001b[0m\u001b[0mappend\u001b[0m\u001b[0;34m(\u001b[0m\u001b[0;34m[\u001b[0m\u001b[0mentities\u001b[0m\u001b[0;34m[\u001b[0m\u001b[0mrow\u001b[0m\u001b[0;34m[\u001b[0m\u001b[0;36m1\u001b[0m\u001b[0;34m]\u001b[0m\u001b[0;34m]\u001b[0m\u001b[0;34m,\u001b[0m\u001b[0mentities\u001b[0m\u001b[0;34m[\u001b[0m\u001b[0mrow\u001b[0m\u001b[0;34m[\u001b[0m\u001b[0;36m2\u001b[0m\u001b[0;34m]\u001b[0m\u001b[0;34m]\u001b[0m\u001b[0;34m,\u001b[0m\u001b[0mRELAs\u001b[0m\u001b[0;34m[\u001b[0m\u001b[0mRELA\u001b[0m\u001b[0;34m]\u001b[0m\u001b[0;34m]\u001b[0m\u001b[0;34m)\u001b[0m\u001b[0;34m\u001b[0m\u001b[0;34m\u001b[0m\u001b[0m\n\u001b[1;32m     29\u001b[0m \u001b[0;34m\u001b[0m\u001b[0m\n\u001b[0;32m---> 30\u001b[0;31m \u001b[0mall_train_dev_test\u001b[0m\u001b[0;34m.\u001b[0m\u001b[0mshuffle\u001b[0m\u001b[0;34m(\u001b[0m\u001b[0;34m)\u001b[0m\u001b[0;34m\u001b[0m\u001b[0;34m\u001b[0m\u001b[0m\n\u001b[0m\u001b[1;32m     31\u001b[0m \u001b[0;34m\u001b[0m\u001b[0m\n\u001b[1;32m     32\u001b[0m \u001b[0;32mwith\u001b[0m \u001b[0mopen\u001b[0m\u001b[0;34m(\u001b[0m\u001b[0;34m'relation2id.txt'\u001b[0m\u001b[0;34m,\u001b[0m \u001b[0;34m'w'\u001b[0m\u001b[0;34m)\u001b[0m \u001b[0;32mas\u001b[0m \u001b[0mf\u001b[0m\u001b[0;34m:\u001b[0m\u001b[0;34m\u001b[0m\u001b[0;34m\u001b[0m\u001b[0m\n",
      "\u001b[0;31mAttributeError\u001b[0m: 'list' object has no attribute 'shuffle'"
     ]
    }
   ],
   "source": [
    "import csv\n",
    "import random\n",
    "import pandas as pd\n",
    "import numpy as np\n",
    "import progressbar\n",
    "import os\n",
    "\n",
    "RELAs = {'has_manifestation' : 0, \n",
    "         'disease_has_finding' : 1, \n",
    "         'disease_excludes_finding' : 2,\n",
    "         'occurs_after' : 3, \n",
    "         'associated_finding_of' : 4}\n",
    "\n",
    "entities = {}\n",
    "entity_count = 0\n",
    "all_train_dev_test = []\n",
    "for RELA in RELAs.keys():\n",
    "    with open('./relas/'+RELA+'.csv') as f:\n",
    "        reader = csv.reader(f, delimiter=',')\n",
    "        row1 = next(reader)\n",
    "        for row in reader:\n",
    "            if row[1] not in entities:\n",
    "                entities[row[1]] = entity_count\n",
    "                entity_count += 1\n",
    "            if row[2] not in entities:\n",
    "                entities[row[2]] = entity_count\n",
    "                entity_count += 1\n",
    "            all_train_dev_test.append([entities[row[1]],entities[row[2]],RELAs[RELA]])\n",
    "\n",
    "random.shuffle(all_train_dev_test)\n",
    "\n",
    "with open('relation2id.txt', 'w') as f:\n",
    "    f.write(\"%d\\n\" % len(RELAs.keys()))\n",
    "    for rela in RELAs.keys():\n",
    "        f.write(\"%s\\t%d\\n\" % (rela, RELAs[rela]))\n",
    "\n",
    "with open('entity2id.txt', 'w') as f:\n",
    "    f.write(\"%d\\n\" % entity_count)\n",
    "    for entity in entities:\n",
    "        f.write(\"%s\\t%d\\n\" % (entity, entities[entity]))\n",
    "\n",
    "\n",
    "with open('train2id.txt', 'w') as f:\n",
    "    f.write(\"%d\\n\" % int(len(all_train_dev_test)*0.7))\n",
    "    for i in range(int(len(all_train_dev_test)*0.7)):\n",
    "        f.write(\"%d\\t%d\\t%d\\n\" % (all_train_dev_test[i][0], all_train_dev_test[i][1], all_train_dev_test[i][2]))\n",
    "\n",
    "with open('valid2id.txt', 'w') as f:\n",
    "    f.write(\"%d\\n\" % (int(len(all_train_dev_test)*0.9)-int(len(all_train_dev_test)*0.7)))\n",
    "    for i in range(int(len(all_train_dev_test)*0.9)-int(len(all_train_dev_test)*0.7)):\n",
    "        f.write(\"%d\\t%d\\t%d\\n\" % (all_train_dev_test[int(len(all_train_dev_test)*0.7)+i][0], all_train_dev_test[int(len(all_train_dev_test)*0.7)+i][1], all_train_dev_test[int(len(all_train_dev_test)*0.7)+i][2]))\n",
    "\n",
    "with open('test2id.txt', 'w') as f:\n",
    "    f.write(\"%d\\n\" % (int(len(all_train_dev_test))-int(len(all_train_dev_test)*0.9)))\n",
    "    for i in range(int(len(all_train_dev_test))-int(len(all_train_dev_test)*0.9)):\n",
    "        f.write(\"%d\\t%d\\t%d\\n\" % (all_train_dev_test[int(len(all_train_dev_test)*0.9)+i][0], all_train_dev_test[int(len(all_train_dev_test)*0.9)+i][1], all_train_dev_test[int(len(all_train_dev_test)*0.9)+i][2]))\n"
   ]
  },
  {
   "cell_type": "code",
   "execution_count": null,
   "metadata": {},
   "outputs": [],
   "source": []
  }
 ],
 "metadata": {
  "kernelspec": {
   "display_name": "Python 3",
   "language": "python",
   "name": "python3"
  },
  "language_info": {
   "codemirror_mode": {
    "name": "ipython",
    "version": 3
   },
   "file_extension": ".py",
   "mimetype": "text/x-python",
   "name": "python",
   "nbconvert_exporter": "python",
   "pygments_lexer": "ipython3",
   "version": "3.7.6"
  }
 },
 "nbformat": 4,
 "nbformat_minor": 4
}
