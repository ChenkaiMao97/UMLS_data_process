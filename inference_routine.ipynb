{
 "cells": [
  {
   "cell_type": "markdown",
   "metadata": {},
   "source": [
    "## Generate new concept pairs for inference"
   ]
  },
  {
   "cell_type": "code",
   "execution_count": 2,
   "metadata": {},
   "outputs": [],
   "source": [
    "import csv\n",
    "import pandas as pd \n",
    "import numpy as np\n",
    "import random\n",
    "\n",
    "CUI1_list = []\n",
    "CUI2_list = []\n",
    "label_list = []\n",
    "with open('./extraxted_concept_pairs/extracted_disease_has_finding.csv') as f:\n",
    "    reader = csv.reader(f, delimiter=',')\n",
    "    row1 = next(reader)\n",
    "    for row in reader:\n",
    "        CUI2_list.append(list(csv.reader([row[1].strip('()')], delimiter=',', quotechar='\"'))[0][0].strip(\"'\"))\n",
    "        CUI1_list.append(list(csv.reader([row[0].strip('()')], delimiter=',', quotechar='\"'))[0][0].strip(\"'\"))\n",
    "        label_list.append('0')\n",
    "\n",
    "df = pd.DataFrame(np.array([CUI1_list,CUI2_list,label_list]).T,\n",
    "                   columns=['CUI1', 'CUI2', 'label'])\n",
    "\n",
    "df.to_csv('./extraxted_concept_pairs/inference_disease_has_finding.csv')\n"
   ]
  },
  {
   "cell_type": "markdown",
   "metadata": {},
   "source": [
    "## Generate new negative pairs (from API) for training"
   ]
  },
  {
   "cell_type": "code",
   "execution_count": 4,
   "metadata": {},
   "outputs": [
    {
     "ename": "IndexError",
     "evalue": "list index out of range",
     "output_type": "error",
     "traceback": [
      "\u001b[0;31m---------------------------------------------------------------------------\u001b[0m",
      "\u001b[0;31mIndexError\u001b[0m                                Traceback (most recent call last)",
      "\u001b[0;32m<ipython-input-4-a2a7d3cef11e>\u001b[0m in \u001b[0;36m<module>\u001b[0;34m\u001b[0m\n\u001b[1;32m     13\u001b[0m     \u001b[0mrow1\u001b[0m \u001b[0;34m=\u001b[0m \u001b[0mnext\u001b[0m\u001b[0;34m(\u001b[0m\u001b[0mreader\u001b[0m\u001b[0;34m)\u001b[0m\u001b[0;34m\u001b[0m\u001b[0;34m\u001b[0m\u001b[0m\n\u001b[1;32m     14\u001b[0m     \u001b[0;32mfor\u001b[0m \u001b[0mrow\u001b[0m \u001b[0;32min\u001b[0m \u001b[0mreader\u001b[0m\u001b[0;34m:\u001b[0m\u001b[0;34m\u001b[0m\u001b[0;34m\u001b[0m\u001b[0m\n\u001b[0;32m---> 15\u001b[0;31m         \u001b[0mCUI2_list\u001b[0m\u001b[0;34m.\u001b[0m\u001b[0mappend\u001b[0m\u001b[0;34m(\u001b[0m\u001b[0mrow\u001b[0m\u001b[0;34m[\u001b[0m\u001b[0;36m2\u001b[0m\u001b[0;34m]\u001b[0m\u001b[0;34m)\u001b[0m\u001b[0;34m\u001b[0m\u001b[0;34m\u001b[0m\u001b[0m\n\u001b[0m\u001b[1;32m     16\u001b[0m         \u001b[0mCUI1_list\u001b[0m\u001b[0;34m.\u001b[0m\u001b[0mappend\u001b[0m\u001b[0;34m(\u001b[0m\u001b[0mrow\u001b[0m\u001b[0;34m[\u001b[0m\u001b[0;36m1\u001b[0m\u001b[0;34m]\u001b[0m\u001b[0;34m)\u001b[0m\u001b[0;34m\u001b[0m\u001b[0;34m\u001b[0m\u001b[0m\n\u001b[1;32m     17\u001b[0m         \u001b[0mlabel_list\u001b[0m\u001b[0;34m.\u001b[0m\u001b[0mappend\u001b[0m\u001b[0;34m(\u001b[0m\u001b[0;34m'0'\u001b[0m\u001b[0;34m)\u001b[0m\u001b[0;34m\u001b[0m\u001b[0;34m\u001b[0m\u001b[0m\n",
      "\u001b[0;31mIndexError\u001b[0m: list index out of range"
     ]
    }
   ],
   "source": [
    "import csv\n",
    "import pandas as pd \n",
    "import numpy as np\n",
    "import random\n",
    "\n",
    "CUI1_list = []\n",
    "CUI2_list = []\n",
    "label_list = []\n",
    "\n",
    "RELA = 'disease_has_finding'\n",
    "with open(RELA+'/disease_negative_relations.csv') as f:\n",
    "    reader = csv.reader(f, delimiter=',')\n",
    "    row1 = next(reader)\n",
    "    for row in reader:\n",
    "        CUI2_list.append(row[2])\n",
    "        CUI1_list.append(row[1])\n",
    "        label_list.append('0')\n",
    "\n",
    "df = pd.DataFrame(np.array([CUI1_list,CUI2_list,label_list]).T,\n",
    "                   columns=['CUI1', 'CUI2', 'label'])\n",
    "\n",
    "df.to_csv(RELA+'/negative_sibling.csv')\n"
   ]
  },
  {
   "cell_type": "code",
   "execution_count": 8,
   "metadata": {},
   "outputs": [],
   "source": [
    "import csv\n",
    "import pandas as pd \n",
    "import numpy as np\n",
    "import random\n",
    "\n",
    "CUI1_list = []\n",
    "CUI2_list = []\n",
    "label_list = []\n",
    "\n",
    "RELA = 'disease_has_finding'\n",
    "with open(RELA+'/random_2.csv') as f:    \n",
    "    reader = csv.reader(f, delimiter=',')\n",
    "    row1 = next(reader)\n",
    "    for row in reader:\n",
    "        CUI2_list.append(list(csv.reader([row[1].strip('()')], delimiter=',', quotechar='\"'))[0][0].strip(\"'\"))\n",
    "        CUI1_list.append(list(csv.reader([row[0].strip('()')], delimiter=',', quotechar='\"'))[0][0].strip(\"'\"))\n",
    "        label_list.append('0')\n",
    "\n",
    "df = pd.DataFrame(np.array([CUI1_list,CUI2_list,label_list]).T,\n",
    "                   columns=['CUI1', 'CUI2', 'label'])\n",
    "\n",
    "df.to_csv(RELA+'/negative_random2.csv')"
   ]
  },
  {
   "cell_type": "code",
   "execution_count": null,
   "metadata": {},
   "outputs": [],
   "source": []
  }
 ],
 "metadata": {
  "kernelspec": {
   "display_name": "Python 3",
   "language": "python",
   "name": "python3"
  },
  "language_info": {
   "codemirror_mode": {
    "name": "ipython",
    "version": 3
   },
   "file_extension": ".py",
   "mimetype": "text/x-python",
   "name": "python",
   "nbconvert_exporter": "python",
   "pygments_lexer": "ipython3",
   "version": "3.7.6"
  }
 },
 "nbformat": 4,
 "nbformat_minor": 4
}
